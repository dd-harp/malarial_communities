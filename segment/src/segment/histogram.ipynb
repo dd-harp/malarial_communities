{
 "cells": [
  {
   "cell_type": "code",
   "execution_count": 24,
   "metadata": {
    "collapsed": true,
    "pycharm": {
     "is_executing": false
    }
   },
   "outputs": [],
   "source": [
    "import struct\n",
    "from itertools import product\n",
    "from math import floor\n",
    "from os import linesep\n",
    "from pathlib import Path\n",
    "from collections import namedtuple\n",
    "\n",
    "import gdal\n",
    "import matplotlib\n",
    "import matplotlib.pyplot as plt\n",
    "import numpy as np\n",
    "\n",
    "gdal.AllRegister()"
   ]
  },
  {
   "cell_type": "code",
   "execution_count": 25,
   "outputs": [
    {
     "name": "stdout",
     "text": [
      "Driver: AIG/Arc/Info Binary Grid\nSize is 43200 x 21600 x 1\nProjection is GEOGCS[\"WGS 84\",DATUM[\"WGS_1984\",SPHEROID[\"WGS 84\",6378137,298.257223563,AUTHORITY[\"EPSG\",\"7030\"]],AUTHORITY[\"EPSG\",\"6326\"]],PRIMEM[\"Greenwich\",0,AUTHORITY[\"EPSG\",\"8901\"]],UNIT[\"degree\",0.0174532925199433,AUTHORITY[\"EPSG\",\"9122\"]],AUTHORITY[\"EPSG\",\"4326\"]]\nOrigin = (-180.0, 89.99999999999929)\nPixel Size = (0.0083333333333333, -0.0083333333333333)\n"
     ],
     "output_type": "stream"
    }
   ],
   "source": [
    "base_dir = Path.home() / \"dev\" / \"malarial_communities\"\n",
    "landscan_file = base_dir / \"data\" / \"LandScan Global 2017\" / \"lspop2017\"\n",
    "\n",
    "if not landscan_file.exists():\n",
    "    print(f\"The given file doesn't exist: {landscan_file}\")\n",
    "dataset = gdal.Open(str(landscan_file), gdal.GA_ReadOnly)\n",
    "if not dataset:\n",
    "    print(f\"Could not open {landscan_file}.\")\n",
    "    \n",
    "print(\"Driver: {}/{}\".format(dataset.GetDriver().ShortName,\n",
    "                            dataset.GetDriver().LongName))\n",
    "print(\"Size is {} x {} x {}\".format(dataset.RasterXSize,\n",
    "                                    dataset.RasterYSize,\n",
    "                                    dataset.RasterCount))\n",
    "print(\"Projection is {}\".format(dataset.GetProjection()))\n",
    "geotransform = dataset.GetGeoTransform()\n",
    "if geotransform:\n",
    "    print(\"Origin = ({}, {})\".format(geotransform[0], geotransform[3]))\n",
    "    print(\"Pixel Size = ({}, {})\".format(geotransform[1], geotransform[5]))\n",
    "    "
   ],
   "metadata": {
    "collapsed": false,
    "pycharm": {
     "name": "#%%\n",
     "is_executing": false
    }
   }
  },
  {
   "cell_type": "code",
   "execution_count": 26,
   "outputs": [
    {
     "name": "stdout",
     "text": [
      "Band Type=Int32\nMin=0.000, Max=168386.000\n"
     ],
     "output_type": "stream"
    }
   ],
   "source": [
    "band = dataset.GetRasterBand(1)\n",
    "print(\"Band Type={}\".format(gdal.GetDataTypeName(band.DataType)))\n",
    "\n",
    "band_minimum = band.GetMinimum()\n",
    "band_maximum = band.GetMaximum()\n",
    "if not band_minimum or not band_maximum:\n",
    "    (band_minimum,band_maximum) = band.ComputeRasterMinMax(True)\n",
    "print(\"Min={:.3f}, Max={:.3f}\".format(band_minimum,band_maximum))\n",
    "\n",
    "if band.GetOverviewCount() > 0:\n",
    "    print(\"Band has {} overviews\".format(band.GetOverviewCount()))\n",
    "\n",
    "if band.GetRasterColorTable():\n",
    "    print(\"Band has a color table with {} entries\".format(band.GetRasterColorTable().GetCount()))\n"
   ],
   "metadata": {
    "collapsed": false,
    "pycharm": {
     "name": "#%%\n",
     "is_executing": false
    }
   }
  },
  {
   "cell_type": "code",
   "execution_count": 27,
   "outputs": [
    {
     "name": "stdout",
     "text": [
      "43200\n<class 'tuple'>\n-2147483647\n0\n"
     ],
     "output_type": "stream"
    }
   ],
   "source": [
    "scanline = band.ReadRaster(xoff=0, yoff=1000,\n",
    "                        xsize=band.XSize, ysize=1,\n",
    "                        buf_xsize=band.XSize, buf_ysize=1,\n",
    "                        buf_type=gdal.GDT_Int32)\n",
    "np_floats = np.frombuffer(scanline, dtype=np.int32)\n",
    "tuple_of_floats = struct.unpack(\"i\" * band.XSize, scanline)\n",
    "for (a, b) in zip(np_floats, tuple_of_floats):\n",
    "    assert a == b\n",
    "print(len(tuple_of_floats))\n",
    "print(type(tuple_of_floats))\n",
    "print(min(np_floats))\n",
    "print(max(np_floats))"
   ],
   "metadata": {
    "collapsed": false,
    "pycharm": {
     "name": "#%%\n",
     "is_executing": false
    }
   }
  },
  {
   "cell_type": "code",
   "execution_count": 28,
   "outputs": [
    {
     "name": "stdout",
     "text": [
      "[-2147483647 -2147483647 -2147483647 -2147483647 -2147483647 -2147483647\n -2147483647 -2147483647 -2147483647 -2147483647]\n"
     ],
     "output_type": "stream"
    }
   ],
   "source": [
    "print(np_floats[:10])\n"
   ],
   "metadata": {
    "collapsed": false,
    "pycharm": {
     "name": "#%%\n",
     "is_executing": false
    }
   }
  },
  {
   "cell_type": "code",
   "execution_count": 29,
   "outputs": [],
   "source": [
    "def make_histogram(band, bin_count=200):\n",
    "    histogram_range = (band.GetMinimum(), band.GetMaximum())\n",
    "    histogram = None\n",
    "    edges = None\n",
    "    for y_offset in range(band.YSize):\n",
    "        scanline_buffer = band.ReadRaster(\n",
    "            xoff=0, yoff=y_offset, xsize=band.XSize, ysize=1,\n",
    "            buf_xsize=band.XSize, buf_ysize=1, buf_type=gdal.GDT_Int32,\n",
    "        )\n",
    "        scanline = np.frombuffer(scanline_buffer, dtype=np.int32)\n",
    "        line_histogram, edges = np.histogram(scanline, bins=bin_count, range=histogram_range, density=False)\n",
    "        if histogram is not None:\n",
    "            histogram += line_histogram\n",
    "        else:\n",
    "            histogram = line_histogram\n",
    "\n",
    "    return histogram, edges\n",
    "\n",
    "hist, edges = make_histogram(band, bin_count=200)"
   ],
   "metadata": {
    "collapsed": false,
    "pycharm": {
     "name": "#%%\n",
     "is_executing": false
    }
   }
  },
  {
   "cell_type": "code",
   "execution_count": 30,
   "outputs": [
    {
     "name": "stdout",
     "text": [
      "Gigabytes of data\n1.1848197393119335\n"
     ],
     "output_type": "stream"
    }
   ],
   "source": [
    "print(\"Gigabytes of data\")\n",
    "print(hist.sum() * 4 / 1024**3)\n"
   ],
   "metadata": {
    "collapsed": false,
    "pycharm": {
     "name": "#%%\n",
     "is_executing": false
    }
   }
  },
  {
   "cell_type": "code",
   "execution_count": 31,
   "outputs": [
    {
     "data": {
      "text/plain": "<Figure size 432x288 with 1 Axes>",
      "image/png": "[encoded data removed]"
     },
     "metadata": {
      "needs_background": "light"
     },
     "output_type": "display_data"
    }
   ],
   "source": [
    "\n",
    "def pixel_containing(point, geo_transform):\n",
    "    return [\n",
    "        int(floor(1.0 / geo_transform[1]) * (point[0] - geo_transform[0])),\n",
    "        int(floor(1.0 / geo_transform[5]) * (point[1] - geo_transform[3])),\n",
    "    ]\n",
    "\n",
    "plt.hist(hist[1:], bins=edges[1:])\n",
    "\n",
    "LongLat = namedtuple(\"LongLat\", \"long lat\")\n",
    "\n",
    "africa_corners = [LongLat(-20, -40), LongLat(55, 40)]\n",
    "\n",
    "kampala = LongLat(0 + 18 / 60, 32 + 34 / 60)\n",
    "moroto = LongLat(2 + 31 / 60, 34 + 40 / 60)\n",
    "\n",
    "\n",
    "def pixel_corners_of_longlat_box(corners, geo_transform):\n",
    "    \"\"\"\n",
    "    \n",
    "    :param corners: Lowerleft and upper-right \n",
    "    :param geo_transform: vector length 6 from GDAL.\n",
    "    :return: \n",
    "    \"\"\"\n",
    "    longlat_corners = [\n",
    "        [corners[a].long, corners[b].lat]\n",
    "        for (a, b) in [[0, 0], [0, 1], [1, 0], [1, 1]]\n",
    "    ]\n",
    "    \n",
    "    corner_pixels = [pixel_containing(corner, geo_transform) for corner in longlat_corners]\n",
    "    longitude_range = [\n",
    "        min([x[0] for x in corner_pixels]),\n",
    "        max([x[0] for x in corner_pixels]),\n",
    "    ]\n",
    "    latitude_range = [\n",
    "        min([x[1] for x in corner_pixels]),\n",
    "        max([x[1] for x in corner_pixels]),\n",
    "    ]\n",
    "    # This is a pair of longitudes and a pair of latitudes.\n",
    "    return LongLat(longitude_range, latitude_range)\n",
    "\n",
    "\n",
    "africa_pixel_range = pixel_corners_of_longlat_box(africa_corners, geotransform)\n",
    "# Just a chunk of Uganda.\n",
    "uganda_pixel_range = pixel_corners_of_longlat_box([kampala, moroto], geotransform)\n"
   ],
   "metadata": {
    "collapsed": false,
    "pycharm": {
     "name": "#%%\n",
     "is_executing": false
    }
   }
  },
  {
   "cell_type": "code",
   "execution_count": 34,
   "outputs": [
    {
     "name": "stdout",
     "text": [
      "6695 6696 6697 ",
      "6698 6699 6700 6701 ",
      "6702 6703 6704 6705 ",
      "6706 6707 6708 6709 ",
      "6710 6711 6712 6713 6714 ",
      "6715 6716 6717 6718 6719 ",
      "6720 6721 6722 6723 6724 ",
      "6725 6726 6727 6728 6729 ",
      "6730 6731 6732 6733 6734 ",
      "6735 6736 6737 6738 ",
      "6739 6740 6741 6742 ",
      "6743 6744 6745 6746 6747 ",
      "6748 6749 6750 6751 6752 ",
      "6753 6754 6755 6756 6757 ",
      "6758 6759 6760 6761 6762 ",
      "6763 6764 6765 6766 6767 ",
      "6768 6769 6770 6771 6772 ",
      "6773 6774 6775 6776 6777 ",
      "6778 6779 6780 6781 ",
      "6782 6783 6784 6785 ",
      "6786 6787 6788 6789 6790 ",
      "6791 6792 6793 ",
      "6794 6795 6796 6797 ",
      "6798 6799 6800 6801 6802 ",
      "6803 6804 6805 6806 ",
      "6807 6808 6809 6810 ",
      "6811 6812 6813 6814 6815 ",
      "6816 6817 6818 6819 6820 ",
      "6821 6822 6823 6824 6825 ",
      "6826 6827 6828 6829 6830 ",
      "6831 6832 6833 6834 6835 ",
      "6836 6837 6838 6839 6840 ",
      "6841 6842 6843 6844 6845 ",
      "6846 6847 6848 6849 6850 ",
      "6851 6852 6853 6854 6855 ",
      "6856 6857 6858 ",
      "6859 6860 6861 6862 6863 ",
      "6864 6865 6866 6867 6868 ",
      "6869 6870 6871 6872 6873 ",
      "6874 6875 6876 6877 ",
      "6878 6879 6880 6881 ",
      "6882 6883 6884 6885 ",
      "6886 6887 6888 6889 6890 ",
      "6891 6892 6893 6894 ",
      "6895 6896 6897 6898 6899 ",
      "6900 6901 6902 6903 ",
      "6904 6905 6906 ",
      "6907 6908 6909 6910 6911 ",
      "6912 6913 6914 ",
      "6915 6916 6917 6918 ",
      "6919 6920 6921 ",
      "6922 6923 6924 6925 ",
      "6926 6927 6928 6929 ",
      "6930 6931 6932 6933 ",
      "6934 6935 6936 6937 6938 ",
      "6939 6940 6941 6942 6943 ",
      "6944 6945 6946 6947 6948 ",
      "\nFound 11 and discarded 20396.\n"
     ],
     "output_type": "stream"
    }
   ],
   "source": [
    "def band_as_numpy(band):\n",
    "    scanline_buffer = band.ReadRaster(\n",
    "        xoff=0, yoff=0, xsize=band.XSize, ysize=band.YSize,\n",
    "        buf_xsize=band.XSize, buf_ysize=band.YSize, buf_type=gdal.GDT_Int32,\n",
    "    )\n",
    "    scanline = np.frombuffer(scanline_buffer, dtype=np.int32)\n",
    "    return np.reshape(scanline, (band.XSize, band.YSize))\n",
    "\n",
    "\n",
    "def sub_band_as_numpy(band, y_limits):\n",
    "    \"\"\"Read subsets of the dataset so that we don't hold the whole thing\n",
    "    in memory. It seems wasteful to reread parts, but GDAL keeps its own cache.\n",
    "    \"\"\"\n",
    "    y_size = y_limits[1] - y_limits[0]\n",
    "    scanline_buffer = band.ReadRaster(\n",
    "        xoff=0,\n",
    "        yoff=y_limits[0],\n",
    "        xsize=band.XSize,\n",
    "        ysize=y_size,\n",
    "        buf_xsize=band.XSize,\n",
    "        buf_ysize=y_size,\n",
    "        buf_type=gdal.GDT_Int32,\n",
    "    )\n",
    "    scanline = np.frombuffer(scanline_buffer, dtype=np.int32)\n",
    "    return np.reshape(scanline, (band.XSize, y_size))\n",
    "\n",
    "\n",
    "def largest_within_distance(band, distance, bounding_box_pixels=None):\n",
    "    \"\"\"\n",
    "    Find the largest pixel within the given distance.\n",
    "    \"\"\"\n",
    "    dx2 = distance**2\n",
    "    value_range = (int(band.GetMinimum()), int(band.GetMaximum()))\n",
    "    maximum_distance = max(band.XSize, band.YSize)**2\n",
    "    peaks = list()\n",
    "    not_a_peak = 0\n",
    "    if not bounding_box_pixels:\n",
    "        bounding_box_pixels = LongLat([0, band.XSize], [0, band.YSize])\n",
    "    for j in range(*bounding_box_pixels.lat):\n",
    "        print(f\"{j} \", end=\"\")\n",
    "        y_limits = (max(0, j - distance), min(band.YSize, j + distance + 1))\n",
    "        map_j = j - y_limits[0]\n",
    "        map = sub_band_as_numpy(band, y_limits)\n",
    "        for i in range(*bounding_box_pixels.long):\n",
    "            if map[i, map_j] < value_range[0] + 1:\n",
    "                continue\n",
    "            x_limits = (max(0, i - distance), min(band.XSize, i + distance + 1))\n",
    "            minimum_distance = maximum_distance\n",
    "            for (x, y) in product(range(*x_limits), range(map.shape[1])):\n",
    "                if map[x, y] > map[i, map_j]:\n",
    "                    minimum_distance = min(minimum_distance, (x - i)**2 + (y - map_j)**2)\n",
    "            if minimum_distance > dx2 and minimum_distance < maximum_distance:\n",
    "                peaks.append((minimum_distance, i, j))\n",
    "            else:\n",
    "                not_a_peak += 1\n",
    "    print(f\"{linesep}Found {len(peaks)} and discarded {not_a_peak}.\")\n",
    "    peaks.sort()\n",
    "    return peaks\n",
    "\n",
    "p = largest_within_distance(band, 20, uganda_pixel_range)"
   ],
   "metadata": {
    "collapsed": false,
    "pycharm": {
     "name": "#%%\n",
     "is_executing": false
    }
   }
  },
  {
   "cell_type": "code",
   "execution_count": 33,
   "outputs": [
    {
     "name": "stdout",
     "text": [
      "(33, 3)\n"
     ],
     "output_type": "stream"
    }
   ],
   "source": [
    "print(np.array(p).shape)"
   ],
   "metadata": {
    "collapsed": false,
    "pycharm": {
     "name": "#%%\n",
     "is_executing": false
    }
   }
  },
  {
   "cell_type": "code",
   "execution_count": 33,
   "outputs": [],
   "source": [
    "\n"
   ],
   "metadata": {
    "collapsed": false,
    "pycharm": {
     "name": "#%%\n",
     "is_executing": false
    }
   }
  }
 ],
 "metadata": {
  "kernelspec": {
   "display_name": "Python 3",
   "language": "python",
   "name": "python3"
  },
  "language_info": {
   "codemirror_mode": {
    "name": "ipython",
    "version": 2
   },
   "file_extension": ".py",
   "mimetype": "text/x-python",
   "name": "python",
   "nbconvert_exporter": "python",
   "pygments_lexer": "ipython2",
   "version": "2.7.6"
  },
  "pycharm": {
   "stem_cell": {
    "cell_type": "raw",
    "source": [],
    "metadata": {
     "collapsed": false
    }
   }
  }
 },
 "nbformat": 4,
 "nbformat_minor": 0
}