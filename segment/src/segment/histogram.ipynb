{
 "cells": [
  {
   "cell_type": "code",
   "execution_count": 1,
   "metadata": {
    "collapsed": true,
    "pycharm": {
     "is_executing": false
    }
   },
   "outputs": [],
   "source": [
    "import struct\n",
    "from itertools import product\n",
    "from pathlib import Path\n",
    "\n",
    "import gdal\n",
    "import matplotlib\n",
    "import matplotlib.pyplot as plt\n",
    "import numpy as np\n",
    "import scipy\n",
    "\n",
    "gdal.AllRegister()"
   ]
  },
  {
   "cell_type": "code",
   "execution_count": 2,
   "outputs": [
    {
     "name": "stdout",
     "text": [
      "Driver: AIG/Arc/Info Binary Grid\nSize is 43200 x 21600 x 1\nProjection is GEOGCS[\"WGS 84\",DATUM[\"WGS_1984\",SPHEROID[\"WGS 84\",6378137,298.257223563,AUTHORITY[\"EPSG\",\"7030\"]],AUTHORITY[\"EPSG\",\"6326\"]],PRIMEM[\"Greenwich\",0,AUTHORITY[\"EPSG\",\"8901\"]],UNIT[\"degree\",0.0174532925199433,AUTHORITY[\"EPSG\",\"9122\"]],AUTHORITY[\"EPSG\",\"4326\"]]\nOrigin = (-180.0, 89.99999999999929)\nPixel Size = (0.0083333333333333, -0.0083333333333333)\n"
     ],
     "output_type": "stream"
    }
   ],
   "source": [
    "base_dir = Path.home() / \"dev\" / \"malarial_communities\"\n",
    "landscan_file = base_dir / \"data\" / \"LandScan Global 2017\" / \"lspop2017\"\n",
    "\n",
    "if not landscan_file.exists():\n",
    "    print(f\"The given file doesn't exist: {landscan_file}\")\n",
    "dataset = gdal.Open(str(landscan_file), gdal.GA_ReadOnly)\n",
    "if not dataset:\n",
    "    print(f\"Could not open {landscan_file}.\")\n",
    "    \n",
    "print(\"Driver: {}/{}\".format(dataset.GetDriver().ShortName,\n",
    "                            dataset.GetDriver().LongName))\n",
    "print(\"Size is {} x {} x {}\".format(dataset.RasterXSize,\n",
    "                                    dataset.RasterYSize,\n",
    "                                    dataset.RasterCount))\n",
    "print(\"Projection is {}\".format(dataset.GetProjection()))\n",
    "geotransform = dataset.GetGeoTransform()\n",
    "if geotransform:\n",
    "    print(\"Origin = ({}, {})\".format(geotransform[0], geotransform[3]))\n",
    "    print(\"Pixel Size = ({}, {})\".format(geotransform[1], geotransform[5]))\n",
    "    "
   ],
   "metadata": {
    "collapsed": false,
    "pycharm": {
     "name": "#%%\n",
     "is_executing": false
    }
   }
  },
  {
   "cell_type": "code",
   "execution_count": 3,
   "outputs": [
    {
     "name": "stdout",
     "text": [
      "Band Type=Int32\nMin=0.000, Max=168386.000\n"
     ],
     "output_type": "stream"
    }
   ],
   "source": [
    "band = dataset.GetRasterBand(1)\n",
    "print(\"Band Type={}\".format(gdal.GetDataTypeName(band.DataType)))\n",
    "\n",
    "band_minimum = band.GetMinimum()\n",
    "band_maximum = band.GetMaximum()\n",
    "if not band_minimum or not band_maximum:\n",
    "    (band_minimum,band_maximum) = band.ComputeRasterMinMax(True)\n",
    "print(\"Min={:.3f}, Max={:.3f}\".format(band_minimum,band_maximum))\n",
    "\n",
    "if band.GetOverviewCount() > 0:\n",
    "    print(\"Band has {} overviews\".format(band.GetOverviewCount()))\n",
    "\n",
    "if band.GetRasterColorTable():\n",
    "    print(\"Band has a color table with {} entries\".format(band.GetRasterColorTable().GetCount()))\n"
   ],
   "metadata": {
    "collapsed": false,
    "pycharm": {
     "name": "#%%\n",
     "is_executing": false
    }
   }
  },
  {
   "cell_type": "code",
   "execution_count": 4,
   "outputs": [
    {
     "name": "stdout",
     "text": [
      "43200\n<class 'tuple'>\n-2147483647\n0\n"
     ],
     "output_type": "stream"
    }
   ],
   "source": [
    "scanline = band.ReadRaster(xoff=0, yoff=1000,\n",
    "                        xsize=band.XSize, ysize=1,\n",
    "                        buf_xsize=band.XSize, buf_ysize=1,\n",
    "                        buf_type=gdal.GDT_Int32)\n",
    "np_floats = np.frombuffer(scanline, dtype=np.int32)\n",
    "tuple_of_floats = struct.unpack(\"i\" * band.XSize, scanline)\n",
    "for (a, b) in zip(np_floats, tuple_of_floats):\n",
    "    assert a == b\n",
    "print(len(tuple_of_floats))\n",
    "print(type(tuple_of_floats))\n",
    "print(min(np_floats))\n",
    "print(max(np_floats))"
   ],
   "metadata": {
    "collapsed": false,
    "pycharm": {
     "name": "#%%\n",
     "is_executing": false
    }
   }
  },
  {
   "cell_type": "code",
   "execution_count": 5,
   "outputs": [
    {
     "name": "stdout",
     "text": [
      "[-2147483647 -2147483647 -2147483647 -2147483647 -2147483647 -2147483647\n -2147483647 -2147483647 -2147483647 -2147483647]\n"
     ],
     "output_type": "stream"
    }
   ],
   "source": [
    "print(np_floats[:10])\n"
   ],
   "metadata": {
    "collapsed": false,
    "pycharm": {
     "name": "#%%\n",
     "is_executing": false
    }
   }
  },
  {
   "cell_type": "code",
   "execution_count": 6,
   "outputs": [],
   "source": [
    "def make_histogram(band, bin_count=200):\n",
    "    histogram_range = (band.GetMinimum(), band.GetMaximum())\n",
    "    histogram = None\n",
    "    edges = None\n",
    "    for y_offset in range(band.YSize):\n",
    "        scanline_buffer = band.ReadRaster(\n",
    "            xoff=0, yoff=y_offset, xsize=band.XSize, ysize=1,\n",
    "            buf_xsize=band.XSize, buf_ysize=1, buf_type=gdal.GDT_Int32,\n",
    "        )\n",
    "        scanline = np.frombuffer(scanline_buffer, dtype=np.int32)\n",
    "        line_histogram, edges = np.histogram(scanline, bins=bin_count, range=histogram_range, density=False)\n",
    "        if histogram is not None:\n",
    "            histogram += line_histogram\n",
    "        else:\n",
    "            histogram = line_histogram\n",
    "\n",
    "    return histogram, edges\n",
    "\n",
    "hist, edges = make_histogram(band, bin_count=200)"
   ],
   "metadata": {
    "collapsed": false,
    "pycharm": {
     "name": "#%%\n",
     "is_executing": false
    }
   }
  },
  {
   "cell_type": "code",
   "execution_count": 7,
   "outputs": [
    {
     "name": "stdout",
     "text": [
      "Gigabytes of data\n1.1848197393119335\n"
     ],
     "output_type": "stream"
    }
   ],
   "source": [
    "print(\"Gigabytes of data\")\n",
    "print(hist.sum() * 4 / 1024**3)\n"
   ],
   "metadata": {
    "collapsed": false,
    "pycharm": {
     "name": "#%%\n",
     "is_executing": false
    }
   }
  },
  {
   "cell_type": "code",
   "execution_count": 8,
   "outputs": [
    {
     "data": {
      "text/plain": "(array([8., 3., 1., 2., 1., 1., 1., 1., 0., 0., 1., 0., 0., 1., 0., 0., 0.,\n        1., 1., 0., 0., 0., 0., 0., 0., 0., 1., 0., 0., 0., 0., 0., 0., 0.,\n        0., 1., 0., 0., 0., 0., 0., 0., 0., 0., 0., 0., 1., 0., 0., 0., 0.,\n        0., 0., 0., 0., 0., 0., 0., 0., 0., 0., 0., 0., 1., 0., 0., 0., 0.,\n        0., 0., 0., 0., 0., 0., 0., 0., 0., 0., 0., 0., 0., 0., 0., 0., 0.,\n        0., 0., 0., 0., 0., 0., 0., 0., 0., 0., 0., 0., 0., 0., 1., 0., 0.,\n        0., 0., 0., 0., 0., 0., 0., 0., 0., 0., 0., 0., 0., 0., 0., 0., 0.,\n        0., 0., 0., 0., 0., 0., 0., 0., 0., 0., 0., 0., 0., 0., 0., 0., 0.,\n        0., 0., 0., 0., 0., 0., 0., 0., 0., 0., 0., 0., 0., 0., 0., 0., 0.,\n        0., 0., 0., 0., 0., 0., 0., 0., 0., 0., 0., 0., 0., 0., 0., 1., 0.,\n        0., 0., 0., 0., 0., 0., 0., 0., 0., 0., 0., 0., 0., 0., 0., 0., 0.,\n        0., 0., 0., 0., 0., 0., 0., 0., 0., 0., 0., 0.]),\n array([   841.93,   1683.86,   2525.79,   3367.72,   4209.65,   5051.58,\n          5893.51,   6735.44,   7577.37,   8419.3 ,   9261.23,  10103.16,\n         10945.09,  11787.02,  12628.95,  13470.88,  14312.81,  15154.74,\n         15996.67,  16838.6 ,  17680.53,  18522.46,  19364.39,  20206.32,\n         21048.25,  21890.18,  22732.11,  23574.04,  24415.97,  25257.9 ,\n         26099.83,  26941.76,  27783.69,  28625.62,  29467.55,  30309.48,\n         31151.41,  31993.34,  32835.27,  33677.2 ,  34519.13,  35361.06,\n         36202.99,  37044.92,  37886.85,  38728.78,  39570.71,  40412.64,\n         41254.57,  42096.5 ,  42938.43,  43780.36,  44622.29,  45464.22,\n         46306.15,  47148.08,  47990.01,  48831.94,  49673.87,  50515.8 ,\n         51357.73,  52199.66,  53041.59,  53883.52,  54725.45,  55567.38,\n         56409.31,  57251.24,  58093.17,  58935.1 ,  59777.03,  60618.96,\n         61460.89,  62302.82,  63144.75,  63986.68,  64828.61,  65670.54,\n         66512.47,  67354.4 ,  68196.33,  69038.26,  69880.19,  70722.12,\n         71564.05,  72405.98,  73247.91,  74089.84,  74931.77,  75773.7 ,\n         76615.63,  77457.56,  78299.49,  79141.42,  79983.35,  80825.28,\n         81667.21,  82509.14,  83351.07,  84193.  ,  85034.93,  85876.86,\n         86718.79,  87560.72,  88402.65,  89244.58,  90086.51,  90928.44,\n         91770.37,  92612.3 ,  93454.23,  94296.16,  95138.09,  95980.02,\n         96821.95,  97663.88,  98505.81,  99347.74, 100189.67, 101031.6 ,\n        101873.53, 102715.46, 103557.39, 104399.32, 105241.25, 106083.18,\n        106925.11, 107767.04, 108608.97, 109450.9 , 110292.83, 111134.76,\n        111976.69, 112818.62, 113660.55, 114502.48, 115344.41, 116186.34,\n        117028.27, 117870.2 , 118712.13, 119554.06, 120395.99, 121237.92,\n        122079.85, 122921.78, 123763.71, 124605.64, 125447.57, 126289.5 ,\n        127131.43, 127973.36, 128815.29, 129657.22, 130499.15, 131341.08,\n        132183.01, 133024.94, 133866.87, 134708.8 , 135550.73, 136392.66,\n        137234.59, 138076.52, 138918.45, 139760.38, 140602.31, 141444.24,\n        142286.17, 143128.1 , 143970.03, 144811.96, 145653.89, 146495.82,\n        147337.75, 148179.68, 149021.61, 149863.54, 150705.47, 151547.4 ,\n        152389.33, 153231.26, 154073.19, 154915.12, 155757.05, 156598.98,\n        157440.91, 158282.84, 159124.77, 159966.7 , 160808.63, 161650.56,\n        162492.49, 163334.42, 164176.35, 165018.28, 165860.21, 166702.14,\n        167544.07, 168386.  ]),\n <a list of 199 Patch objects>)"
     },
     "metadata": {},
     "output_type": "execute_result",
     "execution_count": 8
    },
    {
     "data": {
      "text/plain": "<Figure size 432x288 with 1 Axes>",
      "image/png": "[encoded data removed]"
     },
     "metadata": {
      "needs_background": "light"
     },
     "output_type": "display_data"
    }
   ],
   "source": [
    "plt.hist(hist[1:], bins=edges[1:])\n"
   ],
   "metadata": {
    "collapsed": false,
    "pycharm": {
     "name": "#%%\n",
     "is_executing": false
    }
   }
  },
  {
   "cell_type": "code",
   "execution_count": null,
   "outputs": [],
   "source": [
    "def band_as_numpy(band):\n",
    "    scanline_buffer = band.ReadRaster(\n",
    "        xoff=0, yoff=0, xsize=band.XSize, ysize=band.YSize,\n",
    "        buf_xsize=band.XSize, buf_ysize=band.YSize, buf_type=gdal.GDT_Int32,\n",
    "    )\n",
    "    scanline = np.frombuffer(scanline_buffer, dtype=np.int32)\n",
    "    return np.reshape(scanline, (band.XSize, band.YSize))\n",
    "\n",
    "\n",
    "def sub_band_as_numpy(band, y_limits):\n",
    "    \"\"\"Read subsets of the dataset so that we don't hold the whole thing\n",
    "    in memory. It seems wasteful to reread parts, but GDAL keeps its own cache.\n",
    "    \"\"\"\n",
    "    y_size = y_limits[1] - y_limits[0]\n",
    "    scanline_buffer = band.ReadRaster(\n",
    "        xoff=0,\n",
    "        yoff=y_limits[0],\n",
    "        xsize=band.XSize,\n",
    "        ysize=y_size,\n",
    "        buf_xsize=band.XSize,\n",
    "        buf_ysize=y_size,\n",
    "        buf_type=gdal.GDT_Int32,\n",
    "    )\n",
    "    scanline = np.frombuffer(scanline_buffer, dtype=np.int32)\n",
    "    return np.reshape(scanline, (band.XSize, y_size))\n",
    "\n",
    "\n",
    "def largest_within_distance(band, distance, limit=None):\n",
    "    \"\"\"\n",
    "    Find the largest pixel within the given distance.\n",
    "    \"\"\"\n",
    "    dx2 = distance**2\n",
    "    value_range = (int(band.GetMinimum()), int(band.GetMaximum()))\n",
    "    peaks = list()\n",
    "    not_a_peak = 0\n",
    "    if not limit:\n",
    "        limit = (band.XSize, band.YSize)\n",
    "    for j in range(limit[1]):\n",
    "        y_limits = (max(0, j - distance), min(band.YSize, j + distance + 1))\n",
    "        map_j = j - y_limits[0]\n",
    "        map = sub_band_as_numpy(band, y_limits)\n",
    "        for i in range(limit[0]):\n",
    "            if map[i, map_j] < value_range[0] + 1:\n",
    "                continue\n",
    "            x_limits = (max(0, i - distance), min(band.XSize, i + distance + 1))\n",
    "            minimum_distance = max(band.XSize, band.YSize)**2\n",
    "            for (x, y) in product(range(*x_limits), range(map.shape[1])):\n",
    "                if map[x, y] > map[i, map_j]:\n",
    "                    minimum_distance = min(minimum_distance, (x - i)**2 + (y - map_j)**2)\n",
    "            if minimum_distance > dx2:\n",
    "                peaks.append((minimum_distance, i, j))\n",
    "            else:\n",
    "                not_a_peak += 1\n",
    "    print(f\"Found {len(peaks)} and discarded {not_a_peak}.\")\n",
    "    peaks.sort()\n",
    "    return peaks\n",
    "\n",
    "p = largest_within_distance(band, 50)"
   ],
   "metadata": {
    "collapsed": false,
    "pycharm": {
     "name": "#%%\n",
     "is_executing": true
    }
   }
  },
  {
   "cell_type": "code",
   "execution_count": 22,
   "outputs": [
    {
     "name": "stdout",
     "text": [
      "(24, 3)\n"
     ],
     "output_type": "stream"
    }
   ],
   "source": [
    "print(np.array(p).shape)"
   ],
   "metadata": {
    "collapsed": false,
    "pycharm": {
     "name": "#%%\n",
     "is_executing": false
    }
   }
  },
  {
   "cell_type": "code",
   "execution_count": null,
   "outputs": [],
   "source": [
    "\n"
   ],
   "metadata": {
    "collapsed": false,
    "pycharm": {
     "name": "#%%\n"
    }
   }
  }
 ],
 "metadata": {
  "kernelspec": {
   "display_name": "Python 3",
   "language": "python",
   "name": "python3"
  },
  "language_info": {
   "codemirror_mode": {
    "name": "ipython",
    "version": 2
   },
   "file_extension": ".py",
   "mimetype": "text/x-python",
   "name": "python",
   "nbconvert_exporter": "python",
   "pygments_lexer": "ipython2",
   "version": "2.7.6"
  },
  "pycharm": {
   "stem_cell": {
    "cell_type": "raw",
    "source": [],
    "metadata": {
     "collapsed": false
    }
   }
  }
 },
 "nbformat": 4,
 "nbformat_minor": 0
}